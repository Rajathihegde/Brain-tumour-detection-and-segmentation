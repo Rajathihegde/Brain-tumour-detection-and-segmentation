{
 "cells": [
  {
   "cell_type": "markdown",
   "metadata": {},
   "source": [
    "# 1: IMPORTING LIBRARIES AND DATASET"
   ]
  },
  {
   "cell_type": "code",
   "execution_count": 1,
   "metadata": {
    "_cell_guid": "79c7e3d0-c299-4dcb-8224-4455121ee9b0",
    "_uuid": "d629ff2d2480ee46fbb7e2d37f6b5fab8052498a",
    "execution": {
     "iopub.execute_input": "2022-06-16T04:35:40.493095Z",
     "iopub.status.busy": "2022-06-16T04:35:40.492573Z",
     "iopub.status.idle": "2022-06-16T04:35:46.320181Z",
     "shell.execute_reply": "2022-06-16T04:35:46.319310Z",
     "shell.execute_reply.started": "2022-06-16T04:35:40.493035Z"
    }
   },
   "outputs": [],
   "source": [
    "import os\n",
    "import numpy as np\n",
    "import pandas as pd\n",
    "import matplotlib.pyplot as plt\n",
    "import seaborn as sns\n",
    "import zipfile\n",
    "import cv2\n",
    "from skimage import io\n",
    "\n",
    "import tensorflow as tf\n",
    "from tensorflow.python.keras import Sequential\n",
    "from tensorflow.keras import layers, optimizers\n",
    "from tensorflow.keras.layers import *\n",
    "from tensorflow.keras.models import Model\n",
    "from tensorflow.keras.initializers import glorot_uniform\n",
    "from tensorflow.keras.utils import plot_model\n",
    "from tensorflow.keras.callbacks import ReduceLROnPlateau, EarlyStopping, ModelCheckpoint, LearningRateScheduler\n",
    "import tensorflow.keras.backend as K\n",
    "\n",
    "import random\n",
    "import glob\n",
    "from sklearn.preprocessing import StandardScaler, normalize\n",
    "from IPython.display import display"
   ]
  },
  {
   "cell_type": "code",
   "execution_count": 2,
   "metadata": {
    "execution": {
     "iopub.execute_input": "2022-06-16T04:35:46.324749Z",
     "iopub.status.busy": "2022-06-16T04:35:46.324373Z",
     "iopub.status.idle": "2022-06-16T04:35:46.364368Z",
     "shell.execute_reply": "2022-06-16T04:35:46.363254Z",
     "shell.execute_reply.started": "2022-06-16T04:35:46.324713Z"
    }
   },
   "outputs": [],
   "source": [
    "data = pd.read_csv('../input/lgg-mri-segmentation/kaggle_3m/data.csv')\n",
    "data.info()"
   ]
  },
  {
   "cell_type": "code",
   "execution_count": 3,
   "metadata": {
    "execution": {
     "iopub.execute_input": "2022-06-16T04:35:46.366992Z",
     "iopub.status.busy": "2022-06-16T04:35:46.366029Z",
     "iopub.status.idle": "2022-06-16T04:35:46.403514Z",
     "shell.execute_reply": "2022-06-16T04:35:46.402400Z",
     "shell.execute_reply.started": "2022-06-16T04:35:46.366940Z"
    }
   },
   "outputs": [],
   "source": [
    "data.head(10)"
   ]
  },
  {
   "cell_type": "code",
   "execution_count": 4,
   "metadata": {
    "execution": {
     "iopub.execute_input": "2022-06-16T04:35:46.406012Z",
     "iopub.status.busy": "2022-06-16T04:35:46.405262Z",
     "iopub.status.idle": "2022-06-16T04:35:48.823696Z",
     "shell.execute_reply": "2022-06-16T04:35:48.822758Z",
     "shell.execute_reply.started": "2022-06-16T04:35:46.405962Z"
    }
   },
   "outputs": [],
   "source": [
    "data_map = []\n",
    "for sub_dir_path in glob.glob(\"/kaggle/input/lgg-mri-segmentation/kaggle_3m/\"+\"*\"):\n",
    "    #if os.path.isdir(sub_path_dir):\n",
    "    try:\n",
    "        dir_name = sub_dir_path.split('/')[-1]\n",
    "        for filename in os.listdir(sub_dir_path):\n",
    "            image_path = sub_dir_path + '/' + filename\n",
    "            data_map.extend([dir_name, image_path])\n",
    "    except Exception as e:\n",
    "        print(e)"
   ]
  },
  {
   "cell_type": "code",
   "execution_count": 5,
   "metadata": {
    "execution": {
     "iopub.execute_input": "2022-06-16T04:35:48.827901Z",
     "iopub.status.busy": "2022-06-16T04:35:48.827514Z",
     "iopub.status.idle": "2022-06-16T04:35:48.844299Z",
     "shell.execute_reply": "2022-06-16T04:35:48.843350Z",
     "shell.execute_reply.started": "2022-06-16T04:35:48.827870Z"
    }
   },
   "outputs": [],
   "source": [
    "df = pd.DataFrame({\"patient_id\" : data_map[::2],\n",
    "                   \"path\" : data_map[1::2]})\n",
    "df.head()"
   ]
  },
  {
   "cell_type": "code",
   "execution_count": 6,
   "metadata": {
    "execution": {
     "iopub.execute_input": "2022-06-16T04:35:48.848034Z",
     "iopub.status.busy": "2022-06-16T04:35:48.847712Z",
     "iopub.status.idle": "2022-06-16T04:35:48.878448Z",
     "shell.execute_reply": "2022-06-16T04:35:48.877406Z",
     "shell.execute_reply.started": "2022-06-16T04:35:48.848004Z"
    }
   },
   "outputs": [],
   "source": [
    "df_imgs = df[~df['path'].str.contains(\"mask\")]\n",
    "df_masks = df[df['path'].str.contains(\"mask\")]\n",
    "\n",
    "# File path line length images for later sorting\n",
    "BASE_LEN = 89 # len(/kaggle/input/lgg-mri-segmentation/kaggle_3m/TCGA_DU_6404_19850629/TCGA_DU_6404_19850629_ <-!!!43.tif)\n",
    "END_IMG_LEN = 4 # len(/kaggle/input/lgg-mri-segmentation/kaggle_3m/TCGA_DU_6404_19850629/TCGA_DU_6404_19850629_43 !!!->.tif)\n",
    "END_MASK_LEN = 9 # (/kaggle/input/lgg-mri-segmentation/kaggle_3m/TCGA_DU_6404_19850629/TCGA_DU_6404_19850629_43 !!!->_mask.tif)\n",
    "\n",
    "# Data sorting\n",
    "imgs = sorted(df_imgs[\"path\"].values, key=lambda x : int(x[BASE_LEN:-END_IMG_LEN]))\n",
    "masks = sorted(df_masks[\"path\"].values, key=lambda x : int(x[BASE_LEN:-END_MASK_LEN]))\n",
    "\n",
    "# Sorting check\n",
    "idx = random.randint(0, len(imgs)-1)\n",
    "print(\"Path to the Image:\", imgs[idx], \"\\nPath to the Mask:\", masks[idx])"
   ]
  },
  {
   "cell_type": "markdown",
   "metadata": {},
   "source": [
    "### creating final datset"
   ]
  },
  {
   "cell_type": "code",
   "execution_count": 7,
   "metadata": {
    "execution": {
     "iopub.execute_input": "2022-06-16T04:35:48.880733Z",
     "iopub.status.busy": "2022-06-16T04:35:48.880081Z",
     "iopub.status.idle": "2022-06-16T04:36:20.570194Z",
     "shell.execute_reply": "2022-06-16T04:36:20.569164Z",
     "shell.execute_reply.started": "2022-06-16T04:35:48.880689Z"
    }
   },
   "outputs": [],
   "source": [
    "# Final dataframe\n",
    "brain_df = pd.DataFrame({\"patient_id\": df_imgs.patient_id.values,\n",
    "                         \"image_path\": imgs,\n",
    "                         \"mask_path\": masks\n",
    "                        })\n",
    "def pos_neg_diagnosis(mask_path):\n",
    "    value = np.max(cv2.imread(mask_path))\n",
    "    if value > 0 : \n",
    "        return 1\n",
    "    else:\n",
    "        return 0\n",
    "    \n",
    "brain_df['mask'] = brain_df['mask_path'].apply(lambda x: pos_neg_diagnosis(x))\n",
    "brain_df"
   ]
  },
  {
   "cell_type": "markdown",
   "metadata": {},
   "source": [
    "# 2: DATA VISUALIZATION"
   ]
  },
  {
   "cell_type": "code",
   "execution_count": 8,
   "metadata": {
    "execution": {
     "iopub.execute_input": "2022-06-16T04:36:20.572388Z",
     "iopub.status.busy": "2022-06-16T04:36:20.571794Z",
     "iopub.status.idle": "2022-06-16T04:36:20.582203Z",
     "shell.execute_reply": "2022-06-16T04:36:20.581020Z",
     "shell.execute_reply.started": "2022-06-16T04:36:20.572340Z"
    }
   },
   "outputs": [],
   "source": [
    "brain_df['mask'].value_counts()"
   ]
  },
  {
   "cell_type": "code",
   "execution_count": 9,
   "metadata": {
    "execution": {
     "iopub.execute_input": "2022-06-16T04:36:20.585385Z",
     "iopub.status.busy": "2022-06-16T04:36:20.584461Z",
     "iopub.status.idle": "2022-06-16T04:36:20.780976Z",
     "shell.execute_reply": "2022-06-16T04:36:20.780020Z",
     "shell.execute_reply.started": "2022-06-16T04:36:20.585336Z"
    }
   },
   "outputs": [],
   "source": [
    "import plotly.graph_objects as go  # using plotly to create interactive plots\n",
    "\n",
    "fig = go.Figure([go.Bar(x=brain_df['mask'].value_counts().index, \n",
    "                        y=brain_df['mask'].value_counts(), \n",
    "                        width=[.4, .4]\n",
    "                       )\n",
    "                ])\n",
    "fig.update_traces(marker_color='rgb(158,202,225)', marker_line_color='rgb(8,48,107)',\n",
    "                  marker_line_width=4, opacity=0.4\n",
    "                 )\n",
    "fig.update_layout(title_text=\"Mask Count Plot\",\n",
    "                  width=700,\n",
    "                  height=550,\n",
    "                  yaxis=dict(\n",
    "                             title_text=\"Count\",\n",
    "                             tickmode=\"array\",\n",
    "                             titlefont=dict(size=20)\n",
    "                           )\n",
    "                 )\n",
    "fig.update_yaxes(automargin=True)\n",
    "fig.show()"
   ]
  },
  {
   "cell_type": "code",
   "execution_count": 10,
   "metadata": {
    "execution": {
     "iopub.execute_input": "2022-06-16T04:36:20.782898Z",
     "iopub.status.busy": "2022-06-16T04:36:20.782484Z",
     "iopub.status.idle": "2022-06-16T04:36:21.994888Z",
     "shell.execute_reply": "2022-06-16T04:36:21.993787Z",
     "shell.execute_reply.started": "2022-06-16T04:36:20.782854Z"
    }
   },
   "outputs": [],
   "source": [
    "for i in range(len(brain_df)):\n",
    "    if cv2.imread(brain_df.mask_path[i]).max() > 0:\n",
    "        break\n",
    "\n",
    "plt.figure(figsize=(8,8))\n",
    "plt.subplot(1,2,1)\n",
    "plt.imshow(cv2.imread(brain_df.mask_path[i]));\n",
    "plt.title('Tumor Location')\n",
    "\n",
    "plt.subplot(1,2,2)\n",
    "plt.imshow(cv2.imread(brain_df.image_path[i]));"
   ]
  },
  {
   "cell_type": "code",
   "execution_count": 11,
   "metadata": {
    "execution": {
     "iopub.execute_input": "2022-06-16T04:36:21.996433Z",
     "iopub.status.busy": "2022-06-16T04:36:21.996125Z",
     "iopub.status.idle": "2022-06-16T04:36:22.007377Z",
     "shell.execute_reply": "2022-06-16T04:36:22.006275Z",
     "shell.execute_reply.started": "2022-06-16T04:36:21.996404Z"
    }
   },
   "outputs": [],
   "source": [
    "cv2.imread(brain_df.mask_path[i]).max(), cv2.imread(brain_df.mask_path[i]).min()"
   ]
  },
  {
   "cell_type": "code",
   "execution_count": 12,
   "metadata": {
    "execution": {
     "iopub.execute_input": "2022-06-16T04:36:22.009876Z",
     "iopub.status.busy": "2022-06-16T04:36:22.009263Z",
     "iopub.status.idle": "2022-06-16T04:36:24.620229Z",
     "shell.execute_reply": "2022-06-16T04:36:24.619305Z",
     "shell.execute_reply.started": "2022-06-16T04:36:22.009834Z"
    }
   },
   "outputs": [],
   "source": [
    "# Basic visualizations: Visualize the images (MRI and Mask) in the dataset separately \n",
    "\n",
    "fig, axs = plt.subplots(6,2, figsize=(16,26))\n",
    "count = 0\n",
    "for x in range(6):\n",
    "  i = random.randint(0, len(brain_df)) # select a random index\n",
    "  axs[count][0].title.set_text(\"Brain MRI\") # set title\n",
    "  axs[count][0].imshow(cv2.imread(brain_df.image_path[i])) # show MRI \n",
    "  axs[count][1].title.set_text(\"Mask - \" + str(brain_df['mask'][i])) # plot title on the mask (0 or 1)\n",
    "  axs[count][1].imshow(cv2.imread(brain_df.mask_path[i])) # Show corresponding mask\n",
    "  count += 1\n",
    "\n",
    "fig.tight_layout()"
   ]
  },
  {
   "cell_type": "code",
   "execution_count": 13,
   "metadata": {
    "execution": {
     "iopub.execute_input": "2022-06-16T04:36:24.622193Z",
     "iopub.status.busy": "2022-06-16T04:36:24.621618Z",
     "iopub.status.idle": "2022-06-16T04:36:31.197675Z",
     "shell.execute_reply": "2022-06-16T04:36:31.196659Z",
     "shell.execute_reply.started": "2022-06-16T04:36:24.622131Z"
    }
   },
   "outputs": [],
   "source": [
    "count = 0\n",
    "i = 0\n",
    "fig,axs = plt.subplots(12,3, figsize=(20,50))\n",
    "for mask in brain_df['mask']:\n",
    "    if (mask==1):\n",
    "        img = io.imread(brain_df.image_path[i])\n",
    "        axs[count][0].title.set_text(\"Brain MRI\")\n",
    "        axs[count][0].imshow(img)\n",
    "        \n",
    "        mask = io.imread(brain_df.mask_path[i])\n",
    "        axs[count][1].title.set_text(\"Mask\")\n",
    "        axs[count][1].imshow(mask, cmap='gray')\n",
    "        \n",
    "        img[mask==255] = (0,255,150)  # change pixel color at the position of mask\n",
    "        axs[count][2].title.set_text(\"MRI with Mask\")\n",
    "        axs[count][2].imshow(img)\n",
    "        count +=1\n",
    "    i += 1\n",
    "    if (count==12):\n",
    "        break\n",
    "        \n",
    "fig.tight_layout()"
   ]
  },
  {
   "cell_type": "markdown",
   "metadata": {},
   "source": [
    "# 5: CRETING TEST, TRAIN & VAL SET"
   ]
  },
  {
   "cell_type": "code",
   "execution_count": 14,
   "metadata": {
    "execution": {
     "iopub.execute_input": "2022-06-16T04:36:31.199529Z",
     "iopub.status.busy": "2022-06-16T04:36:31.199024Z",
     "iopub.status.idle": "2022-06-16T04:36:31.226006Z",
     "shell.execute_reply": "2022-06-16T04:36:31.224836Z",
     "shell.execute_reply.started": "2022-06-16T04:36:31.199490Z"
    }
   },
   "outputs": [],
   "source": [
    "brain_df_train = brain_df.drop(columns=['patient_id'])\n",
    "# Convert the data in mask column to string format, to use categorical mode in flow_from_dataframe\n",
    "brain_df_train['mask'] = brain_df_train['mask'].apply(lambda x: str(x))\n",
    "brain_df_train.info()"
   ]
  },
  {
   "cell_type": "code",
   "execution_count": 15,
   "metadata": {
    "execution": {
     "iopub.execute_input": "2022-06-16T04:36:31.228064Z",
     "iopub.status.busy": "2022-06-16T04:36:31.227672Z",
     "iopub.status.idle": "2022-06-16T04:36:31.280224Z",
     "shell.execute_reply": "2022-06-16T04:36:31.279383Z",
     "shell.execute_reply.started": "2022-06-16T04:36:31.228008Z"
    }
   },
   "outputs": [],
   "source": [
    "from sklearn.model_selection import train_test_split\n",
    "\n",
    "train, test = train_test_split(brain_df_train, test_size=0.15)"
   ]
  },
  {
   "cell_type": "code",
   "execution_count": 16,
   "metadata": {
    "execution": {
     "iopub.execute_input": "2022-06-16T04:36:31.282558Z",
     "iopub.status.busy": "2022-06-16T04:36:31.282150Z",
     "iopub.status.idle": "2022-06-16T04:36:32.885581Z",
     "shell.execute_reply": "2022-06-16T04:36:32.884782Z",
     "shell.execute_reply.started": "2022-06-16T04:36:31.282516Z"
    }
   },
   "outputs": [],
   "source": [
    "from keras_preprocessing.image import ImageDataGenerator\n",
    "\n",
    "datagen = ImageDataGenerator(rescale=1./255., validation_split=0.1)\n",
    "\n",
    "train_generator = datagen.flow_from_dataframe(train,\n",
    "                                              directory='./',\n",
    "                                              x_col='image_path',\n",
    "                                              y_col='mask',\n",
    "                                              subset='training',\n",
    "                                              class_mode='categorical',\n",
    "                                              batch_size=16,\n",
    "                                              shuffle=True,\n",
    "                                              target_size=(256,256)\n",
    "                                             )\n",
    "valid_generator = datagen.flow_from_dataframe(train,\n",
    "                                              directory='./',\n",
    "                                              x_col='image_path',\n",
    "                                              y_col='mask',\n",
    "                                              subset='validation',\n",
    "                                              class_mode='categorical',\n",
    "                                              batch_size=16,\n",
    "                                              shuffle=True,\n",
    "                                              target_size=(256,256)\n",
    "                                             )\n",
    "test_datagen = ImageDataGenerator(rescale=1./255.)\n",
    "test_generator = test_datagen.flow_from_dataframe(test,\n",
    "                                                  directory='./',\n",
    "                                                  x_col='image_path',\n",
    "                                                  y_col='mask',\n",
    "                                                  class_mode='categorical',\n",
    "                                                  batch_size=16,\n",
    "                                                  shuffle=False,\n",
    "                                                  target_size=(256,256)\n",
    "                                                 )"
   ]
  },
  {
   "cell_type": "markdown",
   "metadata": {},
   "source": [
    "# 6: TRAIN A CLASSIFIER MODEL TO DETECT IF TUMOR EXISTS OR NOT"
   ]
  },
  {
   "cell_type": "code",
   "execution_count": 17,
   "metadata": {
    "_kg_hide-output": true,
    "execution": {
     "iopub.execute_input": "2022-06-16T04:36:32.887381Z",
     "iopub.status.busy": "2022-06-16T04:36:32.886998Z",
     "iopub.status.idle": "2022-06-16T04:36:38.462275Z",
     "shell.execute_reply": "2022-06-16T04:36:38.461410Z",
     "shell.execute_reply.started": "2022-06-16T04:36:32.887349Z"
    }
   },
   "outputs": [],
   "source": [
    "from tensorflow.keras.applications.resnet50 import ResNet50\n",
    "clf_model = ResNet50(weights='imagenet', include_top=False, input_tensor=Input(shape=(256,256,3)))\n",
    "clf_model.summary()"
   ]
  },
  {
   "cell_type": "code",
   "execution_count": 18,
   "metadata": {
    "execution": {
     "iopub.execute_input": "2022-06-16T04:36:38.467258Z",
     "iopub.status.busy": "2022-06-16T04:36:38.466928Z",
     "iopub.status.idle": "2022-06-16T04:36:38.475847Z",
     "shell.execute_reply": "2022-06-16T04:36:38.474698Z",
     "shell.execute_reply.started": "2022-06-16T04:36:38.467227Z"
    }
   },
   "outputs": [],
   "source": [
    "# before this i tried with trainable layer but the accuracy was less as compared\n",
    "for layer in clf_model.layers:\n",
    "    layers.trainable = False"
   ]
  },
  {
   "cell_type": "code",
   "execution_count": 19,
   "metadata": {
    "execution": {
     "iopub.execute_input": "2022-06-16T04:36:38.481099Z",
     "iopub.status.busy": "2022-06-16T04:36:38.480779Z",
     "iopub.status.idle": "2022-06-16T04:36:38.664003Z",
     "shell.execute_reply": "2022-06-16T04:36:38.663171Z",
     "shell.execute_reply.started": "2022-06-16T04:36:38.481060Z"
    }
   },
   "outputs": [],
   "source": [
    "head = clf_model.output\n",
    "head = AveragePooling2D(pool_size=(4,4))(head)\n",
    "head = Flatten(name='Flatten')(head)\n",
    "head = Dense(256, activation='relu')(head)\n",
    "head = Dropout(0.3)(head)\n",
    "head = Dense(256, activation='relu')(head)\n",
    "head = Dropout(0.3)(head)\n",
    "head = Dense(2, activation='softmax')(head)\n",
    "\n",
    "model = Model(clf_model.input, head)\n",
    "model.compile(loss = 'categorical_crossentropy', \n",
    "              optimizer='adam', \n",
    "              metrics= [\"accuracy\"]\n",
    "             )\n",
    "model.summary()"
   ]
  },
  {
   "cell_type": "code",
   "execution_count": 20,
   "metadata": {
    "execution": {
     "iopub.execute_input": "2022-06-16T04:36:38.668792Z",
     "iopub.status.busy": "2022-06-16T04:36:38.668486Z",
     "iopub.status.idle": "2022-06-16T04:36:38.680753Z",
     "shell.execute_reply": "2022-06-16T04:36:38.679876Z",
     "shell.execute_reply.started": "2022-06-16T04:36:38.668761Z"
    }
   },
   "outputs": [],
   "source": [
    "earlystopping = EarlyStopping(monitor='val_loss', \n",
    "                              mode='min', \n",
    "                              verbose=1, \n",
    "                              patience=15\n",
    "                             )\n",
    "checkpointer = ModelCheckpoint(filepath=\"clf-resnet-weights.hdf5\", \n",
    "                               verbose=1, \n",
    "                               save_best_only=True\n",
    "                              )\n",
    "reduce_lr = ReduceLROnPlateau(monitor='val_loss',\n",
    "                              mode='min',\n",
    "                              verbose=1,\n",
    "                              patience=10,\n",
    "                              min_delta=0.0001,\n",
    "                              factor=0.2\n",
    "                             )\n",
    "callbacks = [checkpointer, earlystopping, reduce_lr]"
   ]
  },
  {
   "cell_type": "code",
   "execution_count": 21,
   "metadata": {
    "execution": {
     "iopub.execute_input": "2022-06-16T04:36:38.685856Z",
     "iopub.status.busy": "2022-06-16T04:36:38.685563Z",
     "iopub.status.idle": "2022-06-16T04:53:11.385650Z",
     "shell.execute_reply": "2022-06-16T04:53:11.384800Z",
     "shell.execute_reply.started": "2022-06-16T04:36:38.685826Z"
    }
   },
   "outputs": [],
   "source": [
    "h = model.fit(train_generator, \n",
    "              steps_per_epoch= train_generator.n // train_generator.batch_size, \n",
    "              epochs = 50, \n",
    "              validation_data= valid_generator, \n",
    "              validation_steps= valid_generator.n // valid_generator.batch_size, \n",
    "              callbacks=[checkpointer, earlystopping])"
   ]
  },
  {
   "cell_type": "code",
   "execution_count": 22,
   "metadata": {
    "execution": {
     "iopub.execute_input": "2022-06-16T04:53:11.388395Z",
     "iopub.status.busy": "2022-06-16T04:53:11.387793Z",
     "iopub.status.idle": "2022-06-16T04:53:11.454328Z",
     "shell.execute_reply": "2022-06-16T04:53:11.453309Z",
     "shell.execute_reply.started": "2022-06-16T04:53:11.388347Z"
    }
   },
   "outputs": [],
   "source": [
    "# saving model achitecture in json file\n",
    "model_json = model.to_json()\n",
    "with open(\"clf-resnet-model.json\", \"w\") as json_file:\n",
    "    json_file.write(model_json)"
   ]
  },
  {
   "cell_type": "markdown",
   "metadata": {},
   "source": [
    "# 7: CLASSIFIACTION MODEL EVALUATION"
   ]
  },
  {
   "cell_type": "code",
   "execution_count": 23,
   "metadata": {
    "execution": {
     "iopub.execute_input": "2022-06-16T04:53:11.456473Z",
     "iopub.status.busy": "2022-06-16T04:53:11.456023Z",
     "iopub.status.idle": "2022-06-16T04:53:11.463981Z",
     "shell.execute_reply": "2022-06-16T04:53:11.462741Z",
     "shell.execute_reply.started": "2022-06-16T04:53:11.456423Z"
    }
   },
   "outputs": [],
   "source": [
    "h.history.keys()"
   ]
  },
  {
   "cell_type": "code",
   "execution_count": 24,
   "metadata": {
    "execution": {
     "iopub.execute_input": "2022-06-16T04:53:11.466680Z",
     "iopub.status.busy": "2022-06-16T04:53:11.466071Z",
     "iopub.status.idle": "2022-06-16T04:53:11.854071Z",
     "shell.execute_reply": "2022-06-16T04:53:11.852959Z",
     "shell.execute_reply.started": "2022-06-16T04:53:11.466635Z"
    }
   },
   "outputs": [],
   "source": [
    "plt.figure(figsize=(12,5))\n",
    "plt.subplot(1,2,1)\n",
    "plt.plot(h.history['loss']);\n",
    "plt.plot(h.history['val_loss']);\n",
    "plt.title(\"Classification Model LOSS\");\n",
    "plt.ylabel(\"loss\");\n",
    "plt.xlabel(\"Epochs\");\n",
    "plt.legend(['train', 'val']);\n",
    "\n",
    "plt.subplot(1,2,2)\n",
    "plt.plot(h.history['accuracy']);\n",
    "plt.plot(h.history['val_accuracy']);\n",
    "plt.title(\"Classification Model Acc\");\n",
    "plt.ylabel(\"Accuracy\");\n",
    "plt.xlabel(\"Epochs\");\n",
    "plt.legend(['train', 'val']);"
   ]
  },
  {
   "cell_type": "code",
   "execution_count": 25,
   "metadata": {
    "execution": {
     "iopub.execute_input": "2022-06-16T04:53:11.856340Z",
     "iopub.status.busy": "2022-06-16T04:53:11.855692Z",
     "iopub.status.idle": "2022-06-16T04:53:18.293068Z",
     "shell.execute_reply": "2022-06-16T04:53:18.292285Z",
     "shell.execute_reply.started": "2022-06-16T04:53:11.856289Z"
    }
   },
   "outputs": [],
   "source": [
    "_, acc = model.evaluate(test_generator)\n",
    "print(\"Test accuracy : {} %\".format(acc*100))"
   ]
  },
  {
   "cell_type": "code",
   "execution_count": 26,
   "metadata": {
    "execution": {
     "iopub.execute_input": "2022-06-16T04:53:18.295006Z",
     "iopub.status.busy": "2022-06-16T04:53:18.294615Z",
     "iopub.status.idle": "2022-06-16T04:53:20.964770Z",
     "shell.execute_reply": "2022-06-16T04:53:20.963690Z",
     "shell.execute_reply.started": "2022-06-16T04:53:18.294964Z"
    }
   },
   "outputs": [],
   "source": [
    "prediction = model.predict(test_generator)\n",
    "\n",
    "pred = np.argmax(prediction, axis=1)\n",
    "#pred = np.asarray(pred).astype('str')\n",
    "original = np.asarray(test['mask']).astype('int')\n",
    "\n",
    "from sklearn.metrics import accuracy_score, confusion_matrix, classification_report\n",
    "accuracy = accuracy_score(original, pred)\n",
    "print(accuracy)\n",
    "\n",
    "cm = confusion_matrix(original, pred)\n",
    "\n",
    "report = classification_report(original, pred, labels = [0,1])\n",
    "print(report)\n",
    "plt.figure(figsize = (5,5))\n",
    "sns.heatmap(cm, annot=True);"
   ]
  },
  {
   "cell_type": "markdown",
   "metadata": {},
   "source": [
    "# 8: BUILDING A SEGMENTATION MODEL TO LOCALIZE TUMOR"
   ]
  },
  {
   "cell_type": "code",
   "execution_count": 27,
   "metadata": {
    "execution": {
     "iopub.execute_input": "2022-06-16T04:53:20.966990Z",
     "iopub.status.busy": "2022-06-16T04:53:20.966526Z",
     "iopub.status.idle": "2022-06-16T04:53:20.977369Z",
     "shell.execute_reply": "2022-06-16T04:53:20.976118Z",
     "shell.execute_reply.started": "2022-06-16T04:53:20.966923Z"
    }
   },
   "outputs": [],
   "source": [
    "brain_df_mask = brain_df[brain_df['mask'] == 1]\n",
    "brain_df_mask.shape"
   ]
  },
  {
   "cell_type": "code",
   "execution_count": 28,
   "metadata": {
    "execution": {
     "iopub.execute_input": "2022-06-16T04:53:20.980157Z",
     "iopub.status.busy": "2022-06-16T04:53:20.979370Z",
     "iopub.status.idle": "2022-06-16T04:53:20.994300Z",
     "shell.execute_reply": "2022-06-16T04:53:20.993073Z",
     "shell.execute_reply.started": "2022-06-16T04:53:20.980107Z"
    }
   },
   "outputs": [],
   "source": [
    "# creating test, train and val sets\n",
    "X_train, X_val = train_test_split(brain_df_mask, test_size=0.15)\n",
    "X_test, X_val = train_test_split(X_val, test_size=0.5)\n",
    "print(\"Train size is {}, valid size is {} & test size is {}\".format(len(X_train), len(X_val), len(X_test)))\n",
    "\n",
    "train_ids = list(X_train.image_path)\n",
    "train_mask = list(X_train.mask_path)\n",
    "\n",
    "val_ids = list(X_val.image_path)\n",
    "val_mask= list(X_val.mask_path)"
   ]
  },
  {
   "cell_type": "code",
   "execution_count": 29,
   "metadata": {
    "execution": {
     "iopub.execute_input": "2022-06-16T04:53:20.996887Z",
     "iopub.status.busy": "2022-06-16T04:53:20.996293Z",
     "iopub.status.idle": "2022-06-16T04:53:21.021089Z",
     "shell.execute_reply": "2022-06-16T04:53:21.020086Z",
     "shell.execute_reply.started": "2022-06-16T04:53:20.996836Z"
    }
   },
   "outputs": [],
   "source": [
    "class DataGenerator(tf.keras.utils.Sequence):\n",
    "  def __init__(self, ids , mask, image_dir = './', batch_size = 16, img_h = 256, img_w = 256, shuffle = True):\n",
    "\n",
    "    self.ids = ids\n",
    "    self.mask = mask\n",
    "    self.image_dir = image_dir\n",
    "    self.batch_size = batch_size\n",
    "    self.img_h = img_h\n",
    "    self.img_w = img_w\n",
    "    self.shuffle = shuffle\n",
    "    self.on_epoch_end()\n",
    "\n",
    "  def __len__(self):\n",
    "    'Get the number of batches per epoch'\n",
    "\n",
    "    return int(np.floor(len(self.ids)) / self.batch_size)\n",
    "\n",
    "  def __getitem__(self, index):\n",
    "    'Generate a batch of data'\n",
    "\n",
    "    #generate index of batch_size length\n",
    "    indexes = self.indexes[index* self.batch_size : (index+1) * self.batch_size]\n",
    "\n",
    "    #get the ImageId corresponding to the indexes created above based on batch size\n",
    "    list_ids = [self.ids[i] for i in indexes]\n",
    "\n",
    "    #get the MaskId corresponding to the indexes created above based on batch size\n",
    "    list_mask = [self.mask[i] for i in indexes]\n",
    "\n",
    "\n",
    "    #generate data for the X(features) and y(label)\n",
    "    X, y = self.__data_generation(list_ids, list_mask)\n",
    "\n",
    "    #returning the data\n",
    "    return X, y\n",
    "\n",
    "  def on_epoch_end(self):\n",
    "    'Used for updating the indices after each epoch, once at the beginning as well as at the end of each epoch'\n",
    "    \n",
    "    #getting the array of indices based on the input dataframe\n",
    "    self.indexes = np.arange(len(self.ids))\n",
    "\n",
    "    #if shuffle is true, shuffle the indices\n",
    "    if self.shuffle:\n",
    "      np.random.shuffle(self.indexes)\n",
    "\n",
    "  def __data_generation(self, list_ids, list_mask):\n",
    "    'generate the data corresponding the indexes in a given batch of images'\n",
    "\n",
    "    # create empty arrays of shape (batch_size,height,width,depth) \n",
    "    #Depth is 3 for input and depth is taken as 1 for output becasue mask consist only of 1 channel.\n",
    "    X = np.empty((self.batch_size, self.img_h, self.img_w, 3))\n",
    "    y = np.empty((self.batch_size, self.img_h, self.img_w, 1))\n",
    "\n",
    "    #iterate through the dataframe rows, whose size is equal to the batch_size\n",
    "    for i in range(len(list_ids)):\n",
    "      #path of the image\n",
    "      img_path = str(list_ids[i])\n",
    "      \n",
    "      #mask path\n",
    "      mask_path = str(list_mask[i])\n",
    "      \n",
    "      #reading the original image and the corresponding mask image\n",
    "      img = io.imread(img_path)\n",
    "      mask = io.imread(mask_path)\n",
    "\n",
    "      #resizing and coverting them to array of type float64\n",
    "      img = cv2.resize(img,(self.img_h,self.img_w))\n",
    "      img = np.array(img, dtype = np.float64)\n",
    "      \n",
    "      mask = cv2.resize(mask,(self.img_h,self.img_w))\n",
    "      mask = np.array(mask, dtype = np.float64)\n",
    "\n",
    "      #standardising \n",
    "      img -= img.mean()\n",
    "      img /= img.std()\n",
    "      \n",
    "      mask -= mask.mean()\n",
    "      mask /= mask.std()\n",
    "      \n",
    "      #Adding image to the empty array\n",
    "      X[i,] = img\n",
    "      \n",
    "      #expanding the dimnesion of the image from (256,256) to (256,256,1)\n",
    "      y[i,] = np.expand_dims(mask, axis = 2)\n",
    "    \n",
    "    #normalizing y\n",
    "    y = (y > 0).astype(int)\n",
    "\n",
    "    return X, y\n",
    "\n",
    "train_data = DataGenerator(train_ids, train_mask)\n",
    "val_data = DataGenerator(val_ids, val_mask)"
   ]
  },
  {
   "cell_type": "code",
   "execution_count": 30,
   "metadata": {
    "execution": {
     "iopub.execute_input": "2022-06-16T04:53:21.023010Z",
     "iopub.status.busy": "2022-06-16T04:53:21.022600Z",
     "iopub.status.idle": "2022-06-16T04:53:21.035370Z",
     "shell.execute_reply": "2022-06-16T04:53:21.034357Z",
     "shell.execute_reply.started": "2022-06-16T04:53:21.022955Z"
    }
   },
   "outputs": [],
   "source": [
    "# lets create model now\n",
    "def resblock(X, f):\n",
    "    '''\n",
    "    function for creating res block\n",
    "    '''\n",
    "    X_copy = X  #copy of input\n",
    "    \n",
    "    # main path\n",
    "    X = Conv2D(f, kernel_size=(1,1), kernel_initializer='he_normal')(X)\n",
    "    X = BatchNormalization()(X)\n",
    "    X = Activation('relu')(X)\n",
    "    \n",
    "    X = Conv2D(f, kernel_size=(3,3), padding='same', kernel_initializer='he_normal')(X)\n",
    "    X = BatchNormalization()(X)\n",
    "    \n",
    "    # shortcut path\n",
    "    X_copy = Conv2D(f, kernel_size=(1,1), kernel_initializer='he_normal')(X_copy)\n",
    "    X_copy = BatchNormalization()(X_copy)\n",
    "    \n",
    "    # Adding the output from main path and short path together\n",
    "    X = Add()([X, X_copy])\n",
    "    X = Activation('relu')(X)\n",
    "    \n",
    "    return X\n",
    "\n",
    "def upsample_concat(x, skip):\n",
    "    '''\n",
    "    funtion for upsampling image\n",
    "    '''\n",
    "    X = UpSampling2D((2,2))(x)\n",
    "    merge = Concatenate()([X, skip])\n",
    "    \n",
    "    return merge"
   ]
  },
  {
   "cell_type": "code",
   "execution_count": 31,
   "metadata": {
    "execution": {
     "iopub.execute_input": "2022-06-16T04:53:21.037391Z",
     "iopub.status.busy": "2022-06-16T04:53:21.036777Z",
     "iopub.status.idle": "2022-06-16T04:53:21.881350Z",
     "shell.execute_reply": "2022-06-16T04:53:21.880536Z",
     "shell.execute_reply.started": "2022-06-16T04:53:21.037342Z"
    }
   },
   "outputs": [],
   "source": [
    "input_shape = (256,256,3)\n",
    "X_input = Input(input_shape) #iniating tensor of input shape\n",
    "\n",
    "# Stage 1\n",
    "conv_1 = Conv2D(16, 3, activation='relu', padding='same', kernel_initializer='he_normal')(X_input)\n",
    "conv_1 = BatchNormalization()(conv_1)\n",
    "conv_1 = Conv2D(16, 3, activation='relu', padding='same', kernel_initializer='he_normal')(conv_1)\n",
    "conv_1 = BatchNormalization()(conv_1)\n",
    "pool_1 = MaxPool2D((2,2))(conv_1)\n",
    "\n",
    "# stage 2\n",
    "conv_2 = resblock(pool_1, 32)\n",
    "pool_2 = MaxPool2D((2,2))(conv_2)\n",
    "\n",
    "# Stage 3\n",
    "conv_3 = resblock(pool_2, 64)\n",
    "pool_3 = MaxPool2D((2,2))(conv_3)\n",
    "\n",
    "# Stage 4\n",
    "conv_4 = resblock(pool_3, 128)\n",
    "pool_4 = MaxPool2D((2,2))(conv_4)\n",
    "\n",
    "# Stage 5 (bottle neck)\n",
    "conv_5 = resblock(pool_4, 256)\n",
    "\n",
    "# Upsample Stage 1\n",
    "up_1 = upsample_concat(conv_5, conv_4)\n",
    "up_1 = resblock(up_1, 128)\n",
    "\n",
    "# Upsample Stage 2\n",
    "up_2 = upsample_concat(up_1, conv_3)\n",
    "up_2 = resblock(up_2, 64)\n",
    "\n",
    "# Upsample Stage 3\n",
    "up_3 = upsample_concat(up_2, conv_2)\n",
    "up_3 = resblock(up_3, 32)\n",
    "\n",
    "# Upsample Stage 4\n",
    "up_4 = upsample_concat(up_3, conv_1)\n",
    "up_4 = resblock(up_4, 16)\n",
    "\n",
    "# final output\n",
    "out = Conv2D(1, (1,1), kernel_initializer='he_normal', padding='same', activation='sigmoid')(up_4)\n",
    "\n",
    "seg_model = Model(X_input, out)\n",
    "seg_model.summary()"
   ]
  },
  {
   "cell_type": "markdown",
   "metadata": {},
   "source": [
    "# 9: TRAINING SEGMENTATION MODEL"
   ]
  },
  {
   "cell_type": "code",
   "execution_count": 32,
   "metadata": {
    "execution": {
     "iopub.execute_input": "2022-06-16T04:53:21.892505Z",
     "iopub.status.busy": "2022-06-16T04:53:21.892219Z",
     "iopub.status.idle": "2022-06-16T04:53:21.953277Z",
     "shell.execute_reply": "2022-06-16T04:53:21.952318Z",
     "shell.execute_reply.started": "2022-06-16T04:53:21.892470Z"
    }
   },
   "outputs": [],
   "source": [
    "# Define a custom loss function for ResUNet model\n",
    "'''\n",
    "actual link for refrence (https://github.com/nabsabraham/focal-tversky-unet/blob/master/losses.py)\n",
    "'''\n",
    "from keras.losses import binary_crossentropy\n",
    "\n",
    "epsilon = 1e-5\n",
    "smooth = 1\n",
    "\n",
    "def tversky(y_true, y_pred):\n",
    "    y_true_pos = K.flatten(y_true)\n",
    "    y_pred_pos = K.flatten(y_pred)\n",
    "    true_pos = K.sum(y_true_pos * y_pred_pos)\n",
    "    false_neg = K.sum(y_true_pos * (1-y_pred_pos))\n",
    "    false_pos = K.sum((1-y_true_pos)*y_pred_pos)\n",
    "    alpha = 0.7\n",
    "    return (true_pos + smooth)/(true_pos + alpha*false_neg + (1-alpha)*false_pos + smooth)\n",
    "\n",
    "def focal_tversky(y_true,y_pred):\n",
    "    y_true = tf.cast(y_true, tf.float32)\n",
    "    y_pred = tf.cast(y_pred, tf.float32)\n",
    "    \n",
    "    pt_1 = tversky(y_true, y_pred)\n",
    "    gamma = 0.75\n",
    "    return K.pow((1-pt_1), gamma)\n",
    "\n",
    "def tversky_loss(y_true, y_pred):\n",
    "    return 1 - tversky(y_true,y_pred)"
   ]
  },
  {
   "cell_type": "code",
   "execution_count": 33,
   "metadata": {
    "execution": {
     "iopub.execute_input": "2022-06-16T04:53:21.955842Z",
     "iopub.status.busy": "2022-06-16T04:53:21.955299Z",
     "iopub.status.idle": "2022-06-16T04:53:21.979702Z",
     "shell.execute_reply": "2022-06-16T04:53:21.978715Z",
     "shell.execute_reply.started": "2022-06-16T04:53:21.955794Z"
    }
   },
   "outputs": [],
   "source": [
    "# compling model and callbacks functions\n",
    "adam = tf.keras.optimizers.Adam(lr = 0.05, epsilon = 0.1)\n",
    "seg_model.compile(optimizer = adam, \n",
    "                  loss = focal_tversky, \n",
    "                  metrics = [tversky]\n",
    "                 )\n",
    "#callbacks\n",
    "earlystopping = EarlyStopping(monitor='val_loss',\n",
    "                              mode='min', \n",
    "                              verbose=1, \n",
    "                              patience=20\n",
    "                             )\n",
    "# save the best model with lower validation loss\n",
    "checkpointer = ModelCheckpoint(filepath=\"ResUNet-segModel-weights.hdf5\", \n",
    "                               verbose=1, \n",
    "                               save_best_only=True\n",
    "                              )\n",
    "reduce_lr = ReduceLROnPlateau(monitor='val_loss',\n",
    "                              mode='min',\n",
    "                              verbose=1,\n",
    "                              patience=10,\n",
    "                              min_delta=0.0001,\n",
    "                              factor=0.2\n",
    "                             )"
   ]
  },
  {
   "cell_type": "code",
   "execution_count": 34,
   "metadata": {
    "execution": {
     "iopub.execute_input": "2022-06-16T04:53:21.981729Z",
     "iopub.status.busy": "2022-06-16T04:53:21.981322Z",
     "iopub.status.idle": "2022-06-16T05:02:05.819247Z",
     "shell.execute_reply": "2022-06-16T05:02:05.818264Z",
     "shell.execute_reply.started": "2022-06-16T04:53:21.981687Z"
    }
   },
   "outputs": [],
   "source": [
    "h = seg_model.fit(train_data, \n",
    "                  epochs = 60, \n",
    "                  validation_data = val_data,\n",
    "                  callbacks = [checkpointer, earlystopping, reduce_lr]\n",
    "                 )"
   ]
  },
  {
   "cell_type": "code",
   "execution_count": 35,
   "metadata": {
    "execution": {
     "iopub.execute_input": "2022-06-16T05:02:05.821118Z",
     "iopub.status.busy": "2022-06-16T05:02:05.820753Z",
     "iopub.status.idle": "2022-06-16T05:02:05.856143Z",
     "shell.execute_reply": "2022-06-16T05:02:05.855083Z",
     "shell.execute_reply.started": "2022-06-16T05:02:05.821085Z"
    }
   },
   "outputs": [],
   "source": [
    "# saving model achitecture in json file\n",
    "seg_model_json = seg_model.to_json()\n",
    "with open(\"ResUNet-seg-model.json\", \"w\") as json_file:\n",
    "    json_file.write(seg_model_json)"
   ]
  },
  {
   "cell_type": "markdown",
   "metadata": {},
   "source": [
    "# 10: SEGMENTATION MODEL EVALUATION"
   ]
  },
  {
   "cell_type": "code",
   "execution_count": 36,
   "metadata": {
    "execution": {
     "iopub.execute_input": "2022-06-16T05:02:05.858454Z",
     "iopub.status.busy": "2022-06-16T05:02:05.857789Z",
     "iopub.status.idle": "2022-06-16T05:02:05.869171Z",
     "shell.execute_reply": "2022-06-16T05:02:05.868203Z",
     "shell.execute_reply.started": "2022-06-16T05:02:05.858410Z"
    }
   },
   "outputs": [],
   "source": [
    "h.history.keys()"
   ]
  },
  {
   "cell_type": "code",
   "execution_count": 37,
   "metadata": {
    "execution": {
     "iopub.execute_input": "2022-06-16T05:02:05.871862Z",
     "iopub.status.busy": "2022-06-16T05:02:05.871219Z",
     "iopub.status.idle": "2022-06-16T05:02:06.239518Z",
     "shell.execute_reply": "2022-06-16T05:02:06.238387Z",
     "shell.execute_reply.started": "2022-06-16T05:02:05.871820Z"
    }
   },
   "outputs": [],
   "source": [
    "plt.figure(figsize=(12,5))\n",
    "plt.subplot(1,2,1)\n",
    "plt.plot(h.history['loss']);\n",
    "plt.plot(h.history['val_loss']);\n",
    "plt.title(\"SEG Model focal tversky Loss\");\n",
    "plt.ylabel(\"focal tversky loss\");\n",
    "plt.xlabel(\"Epochs\");\n",
    "plt.legend(['train', 'val']);\n",
    "\n",
    "plt.subplot(1,2,2)\n",
    "plt.plot(h.history['tversky']);\n",
    "plt.plot(h.history['val_tversky']);\n",
    "plt.title(\"SEG Model tversky score\");\n",
    "plt.ylabel(\"tversky Accuracy\");\n",
    "plt.xlabel(\"Epochs\");\n",
    "plt.legend(['train', 'val']);"
   ]
  },
  {
   "cell_type": "code",
   "execution_count": 38,
   "metadata": {
    "execution": {
     "iopub.execute_input": "2022-06-16T05:02:06.241545Z",
     "iopub.status.busy": "2022-06-16T05:02:06.241114Z",
     "iopub.status.idle": "2022-06-16T05:02:07.002709Z",
     "shell.execute_reply": "2022-06-16T05:02:07.001582Z",
     "shell.execute_reply.started": "2022-06-16T05:02:06.241502Z"
    }
   },
   "outputs": [],
   "source": [
    "test_ids = list(X_test.image_path)\n",
    "test_mask = list(X_test.mask_path)\n",
    "test_data = DataGenerator(test_ids, test_mask)\n",
    "_, tv = seg_model.evaluate(test_data)\n",
    "print(\"Segmentation tversky is {:.2f}%\".format(tv*100))"
   ]
  },
  {
   "cell_type": "code",
   "execution_count": 43,
   "metadata": {
    "execution": {
     "iopub.execute_input": "2022-06-16T05:29:44.980087Z",
     "iopub.status.busy": "2022-06-16T05:29:44.979669Z",
     "iopub.status.idle": "2022-06-16T05:29:51.990397Z",
     "shell.execute_reply": "2022-06-16T05:29:51.988838Z",
     "shell.execute_reply.started": "2022-06-16T05:29:44.980022Z"
    }
   },
   "outputs": [],
   "source": [
    "train_ids = list(X_train.image_path)\n",
    "train_mask = list(X_train.mask_path)\n",
    "train_data = DataGenerator(train_ids, train_mask)\n",
    "_, tv = seg_model.evaluate(train_data)\n",
    "print(\"Segmentation tversky is {:.2f}%\".format(tv*100))"
   ]
  },
  {
   "cell_type": "markdown",
   "metadata": {},
   "source": [
    "# 11: SEGMENTATION MODEL PREFORMACE \n",
    "## (COMBINING CLASSIFICATION AND SEGMENTAION MODEL BUILDING PIPELINE)"
   ]
  },
  {
   "cell_type": "code",
   "execution_count": 39,
   "metadata": {
    "execution": {
     "iopub.execute_input": "2022-06-16T05:02:07.004497Z",
     "iopub.status.busy": "2022-06-16T05:02:07.004126Z",
     "iopub.status.idle": "2022-06-16T05:02:07.021381Z",
     "shell.execute_reply": "2022-06-16T05:02:07.020295Z",
     "shell.execute_reply.started": "2022-06-16T05:02:07.004455Z"
    }
   },
   "outputs": [],
   "source": [
    "def prediction(test, model, model_seg):\n",
    "    '''\n",
    "    Predcition function which takes dataframe containing ImageID as Input and perform 2 type of prediction on the image\n",
    "    Initially, image is passed through the classification network which predicts whether the image has defect or not, if the model\n",
    "    is 99% sure that the image has no defect, then the image is labeled as no-defect, if the model is not sure, it passes the image to the\n",
    "    segmentation network, it again checks if the image has defect or not, if it has defect, then the type and location of defect is found\n",
    "    '''\n",
    "    # empty list to store results\n",
    "    mask, image_id, has_mask = [], [], []\n",
    "    \n",
    "    #itetrating through each image in test data\n",
    "    for i in test.image_path:\n",
    "        \n",
    "        img = io.imread(i)\n",
    "        #normalizing\n",
    "        img = img *1./255.\n",
    "        #reshaping\n",
    "        img = cv2.resize(img, (256,256))\n",
    "        # converting img into array\n",
    "        img = np.array(img, dtype=np.float64)\n",
    "        #reshaping the image from 256,256,3 to 1,256,256,3\n",
    "        img = np.reshape(img, (1,256,256,3))\n",
    "        \n",
    "        #making prediction for tumor in image\n",
    "        is_defect = model.predict(img)\n",
    "        \n",
    "        #if tumour is not present we append the details of the image to the list\n",
    "        if np.argmax(is_defect)==0:\n",
    "            image_id.append(i)\n",
    "            has_mask.append(0)\n",
    "            mask.append('No mask')\n",
    "            continue\n",
    "        \n",
    "        #Creating a empty array of shape 1,256,256,1\n",
    "        X = np.empty((1,256,256,3))\n",
    "        # read the image\n",
    "        img = io.imread(i)\n",
    "        #resizing the image and coverting them to array of type float64\n",
    "        img = cv2.resize(img, (256,256))\n",
    "        img = np.array(img, dtype=np.float64)\n",
    "        \n",
    "        # standardising the image\n",
    "        img -= img.mean()\n",
    "        img /= img.std()\n",
    "        #converting the shape of image from 256,256,3 to 1,256,256,3\n",
    "        X[0,] = img\n",
    "        \n",
    "        #make prediction of mask\n",
    "        predict = model_seg.predict(X)\n",
    "        \n",
    "        # if sum of predicted mask is 0 then there is not tumour\n",
    "        if predict.round().astype(int).sum()==0:\n",
    "            image_id.append(i)\n",
    "            has_mask.append(0)\n",
    "            mask.append('No mask')\n",
    "        else:\n",
    "        #if the sum of pixel values are more than 0, then there is tumour\n",
    "            image_id.append(i)\n",
    "            has_mask.append(1)\n",
    "            mask.append(predict)\n",
    "            \n",
    "    return pd.DataFrame({'image_path': image_id,'predicted_mask': mask,'has_mask': has_mask})"
   ]
  },
  {
   "cell_type": "code",
   "execution_count": 40,
   "metadata": {
    "execution": {
     "iopub.execute_input": "2022-06-16T05:02:07.023028Z",
     "iopub.status.busy": "2022-06-16T05:02:07.022641Z",
     "iopub.status.idle": "2022-06-16T05:02:56.050977Z",
     "shell.execute_reply": "2022-06-16T05:02:56.050127Z",
     "shell.execute_reply.started": "2022-06-16T05:02:07.022988Z"
    }
   },
   "outputs": [],
   "source": [
    "# making prediction\n",
    "df_pred = prediction(test, model, seg_model)\n",
    "df_pred"
   ]
  },
  {
   "cell_type": "code",
   "execution_count": 41,
   "metadata": {
    "execution": {
     "iopub.execute_input": "2022-06-16T05:02:56.052853Z",
     "iopub.status.busy": "2022-06-16T05:02:56.052489Z",
     "iopub.status.idle": "2022-06-16T05:03:02.518149Z",
     "shell.execute_reply": "2022-06-16T05:03:02.517168Z",
     "shell.execute_reply.started": "2022-06-16T05:02:56.052813Z"
    }
   },
   "outputs": [],
   "source": [
    "# merging original and prediction df\n",
    "df_pred = test.merge(df_pred, on='image_path')\n",
    "df_pred.head(10)"
   ]
  },
  {
   "cell_type": "code",
   "execution_count": 42,
   "metadata": {
    "execution": {
     "iopub.execute_input": "2022-06-16T05:03:02.519803Z",
     "iopub.status.busy": "2022-06-16T05:03:02.519439Z",
     "iopub.status.idle": "2022-06-16T05:03:17.127601Z",
     "shell.execute_reply": "2022-06-16T05:03:17.123196Z",
     "shell.execute_reply.started": "2022-06-16T05:03:02.519765Z"
    }
   },
   "outputs": [],
   "source": [
    "#visualizing prediction\n",
    "count = 0\n",
    "fig, axs = plt.subplots(15,5, figsize=(30,70))\n",
    "\n",
    "for i in range(len(df_pred)):\n",
    "    if df_pred.has_mask[i]==1 and count<15:\n",
    "        #read mri images\n",
    "        img = io.imread(df_pred.image_path[i])\n",
    "        img = cv2.cvtColor(img, cv2.COLOR_BGR2RGB)\n",
    "        axs[count][0].imshow(img)\n",
    "        axs[count][0].title.set_text('Brain MRI')\n",
    "        \n",
    "        #read original mask\n",
    "        mask = io.imread(df_pred.mask_path[i])\n",
    "        axs[count][1].imshow(mask)\n",
    "        axs[count][1].title.set_text('Original Mask')\n",
    "        \n",
    "        #read predicted mask\n",
    "        pred = np.array(df_pred.predicted_mask[i]).squeeze().round()\n",
    "        axs[count][2].imshow(pred)\n",
    "        axs[count][2].title.set_text('AI predicted mask')\n",
    "        \n",
    "        #overlay original mask with MRI\n",
    "        img[mask==255] = (255,0,0)\n",
    "        axs[count][3].imshow(img)\n",
    "        axs[count][3].title.set_text('Brain MRI with original mask (Ground Truth)')\n",
    "        \n",
    "        #overlay predicted mask and MRI\n",
    "        img_ = io.imread(df_pred.image_path[i])\n",
    "        img_ = cv2.cvtColor(img_, cv2.COLOR_BGR2RGB)\n",
    "        img_[pred==1] = (0,255,150)\n",
    "        axs[count][4].imshow(img_)\n",
    "        axs[count][4].title.set_text('MRI with AI PREDICTED MASK')\n",
    "        \n",
    "        count +=1\n",
    "    if (count==15):\n",
    "        break\n",
    "\n",
    "fig.tight_layout()        "
   ]
  }
 ],
 "metadata": {
  "kernelspec": {
   "display_name": "Python 3 (ipykernel)",
   "language": "python",
   "name": "python3"
  },
  "language_info": {
   "codemirror_mode": {
    "name": "ipython",
    "version": 3
   },
   "file_extension": ".py",
   "mimetype": "text/x-python",
   "name": "python",
   "nbconvert_exporter": "python",
   "pygments_lexer": "ipython3",
   "version": "3.9.12"
  }
 },
 "nbformat": 4,
 "nbformat_minor": 4
}
